{
 "cells": [
  {
   "cell_type": "markdown",
   "id": "7f8c3293-d802-4cf4-a13b-c42f5662346a",
   "metadata": {},
   "source": [
    "# Q1. Calculate the 95% confidence interval for a sample of data with a mean of 50 and a standard deviation of 5 using Python. Interpret the results."
   ]
  },
  {
   "cell_type": "code",
   "execution_count": 1,
   "id": "84dcba01-50fa-460d-9654-6c259ffefa4a",
   "metadata": {},
   "outputs": [],
   "source": [
    "import scipy.stats as stats\n",
    "import numpy as np"
   ]
  },
  {
   "cell_type": "code",
   "execution_count": 2,
   "id": "c8343005-816a-4c80-ad14-7cb70f1a2123",
   "metadata": {},
   "outputs": [
    {
     "name": "stdout",
     "output_type": "stream",
     "text": [
      "1.6448536269514722\n",
      "49.17757318652426 50.82242681347574\n"
     ]
    }
   ],
   "source": [
    "sample_mean = 50\n",
    "sample_std = 5\n",
    "sample_size = 100\n",
    "significant_value = 0.05\n",
    "\n",
    "std_error = sample_std/(sample_size**0.5)\n",
    "z_critical = stats.norm.ppf(q = 0.95) \n",
    "\n",
    "lower_ci = sample_mean - z_critical*std_error\n",
    "upper_ci = sample_mean + z_critical*std_error\n",
    "print(z_critical)\n",
    "\n",
    "print(lower_ci,upper_ci)\n"
   ]
  },
  {
   "cell_type": "markdown",
   "id": "6ade348b-8459-490d-86fc-8a2a9d478041",
   "metadata": {},
   "source": [
    "# Q2. Conduct a chi-square goodness of fit test to determine if the distribution of colors of M&Ms in a bag matches the expected distribution of 20% blue, 20% orange, 20% green, 10% yellow, 10% red, and 20% brown. Use Python to perform the test with a significance level of 0.05."
   ]
  },
  {
   "cell_type": "code",
   "execution_count": 4,
   "id": "ce683701-c06f-4a2e-a0dd-3fee58d7f2ec",
   "metadata": {},
   "outputs": [
    {
     "name": "stdout",
     "output_type": "stream",
     "text": [
      "9.36244541484716\n",
      "11.070497693516351\n",
      "Accept null hypothesis\n"
     ]
    }
   ],
   "source": [
    "import scipy.stats as stats\n",
    "import numpy as np\n",
    "\n",
    "observed_counts = np.array([40,50,45,17,35,42])\n",
    "\n",
    "expected_counts = np.array([0.2,0.2,0.2,0.1,0.1,0.2])*np.sum(observed_counts)\n",
    "\n",
    "chisquare_test_statistic,P_value=stats.chisquare(observed_counts,expected_counts)\n",
    "\n",
    "dof = 5\n",
    "significance_value = 0.05\n",
    "critical_value = stats.chi2.ppf(1-significance_value,dof)\n",
    "\n",
    "print(chisquare_test_statistic)\n",
    "print(critical_value)\n",
    "\n",
    "if chisquare_test_statistic > critical_value:\n",
    "    \n",
    "    print(\"Reject null Hypothesis\")\n",
    "else:\n",
    "    print(\"Accept null hypothesis\")\n"
   ]
  },
  {
   "cell_type": "markdown",
   "id": "09b8b218-4e6a-4e04-b149-d79ed73fc8ec",
   "metadata": {},
   "source": [
    "# Q3. Use Python to calculate the chi-square statistic and p-value for a contingency table with the following data:"
   ]
  },
  {
   "cell_type": "code",
   "execution_count": 5,
   "id": "c375d828-0b79-4ad3-90bf-0daf542fd3cf",
   "metadata": {},
   "outputs": [
    {
     "data": {
      "text/html": [
       "<div>\n",
       "<style scoped>\n",
       "    .dataframe tbody tr th:only-of-type {\n",
       "        vertical-align: middle;\n",
       "    }\n",
       "\n",
       "    .dataframe tbody tr th {\n",
       "        vertical-align: top;\n",
       "    }\n",
       "\n",
       "    .dataframe thead th {\n",
       "        text-align: right;\n",
       "    }\n",
       "</style>\n",
       "<table border=\"1\" class=\"dataframe\">\n",
       "  <thead>\n",
       "    <tr style=\"text-align: right;\">\n",
       "      <th></th>\n",
       "      <th>Group A</th>\n",
       "      <th>Group B</th>\n",
       "    </tr>\n",
       "  </thead>\n",
       "  <tbody>\n",
       "    <tr>\n",
       "      <th>outcome 1</th>\n",
       "      <td>20</td>\n",
       "      <td>15</td>\n",
       "    </tr>\n",
       "    <tr>\n",
       "      <th>outcome 2</th>\n",
       "      <td>10</td>\n",
       "      <td>25</td>\n",
       "    </tr>\n",
       "    <tr>\n",
       "      <th>outcome 3</th>\n",
       "      <td>15</td>\n",
       "      <td>20</td>\n",
       "    </tr>\n",
       "  </tbody>\n",
       "</table>\n",
       "</div>"
      ],
      "text/plain": [
       "           Group A  Group B\n",
       "outcome 1       20       15\n",
       "outcome 2       10       25\n",
       "outcome 3       15       20"
      ]
     },
     "execution_count": 5,
     "metadata": {},
     "output_type": "execute_result"
    }
   ],
   "source": [
    "import pandas as pd\n",
    "\n",
    "df = pd.DataFrame({\"Group A\":[20,10,15],\"Group B\":[15,25,20]},index=[\"outcome 1\",\"outcome 2\",\"outcome 3\"])\n",
    "df\n"
   ]
  },
  {
   "cell_type": "markdown",
   "id": "485386d4-b1f7-4fdb-b4e2-75fc7cd311c9",
   "metadata": {},
   "source": [
    "Interpret the results of the test"
   ]
  },
  {
   "cell_type": "code",
   "execution_count": 12,
   "id": "1b8b5d03-a5ef-4a07-990e-4bea223f7ec4",
   "metadata": {},
   "outputs": [
    {
     "name": "stdout",
     "output_type": "stream",
     "text": [
      "Chi-square statistic: 5.833333333333334\n",
      "P-value: 0.05411376622282158\n"
     ]
    }
   ],
   "source": [
    "from scipy.stats import chi2_contingency\n",
    "contingency_table = [[20,15], [10, 25], [15, 20]]\n",
    "chi2_stat, p_val, dof, expected = chi2_contingency(contingency_table)\n",
    "print(\"Chi-square statistic:\", chi2_stat)\n",
    "print(\"P-value:\", p_val)"
   ]
  },
  {
   "cell_type": "markdown",
   "id": "59ac8965-1cf5-4931-9c95-97bf8de51574",
   "metadata": {},
   "source": [
    "# Q4. A study of the prevalence of smoking in a population of 500 individuals found that 60 individuals smoked. Use Python to calculate the 95% confidence interval for the true proportion of individuals in the population who smoke."
   ]
  },
  {
   "cell_type": "code",
   "execution_count": 11,
   "id": "a97c4dbf-ae8d-4916-b68d-e5c62ced33d8",
   "metadata": {},
   "outputs": [
    {
     "name": "stdout",
     "output_type": "stream",
     "text": [
      "The 95% confidence interval for the true proportion of individuals who smoke is: (9.15%, 14.85%)\n"
     ]
    }
   ],
   "source": [
    "import scipy.stats as stats\n",
    "import numpy as np\n",
    "import math\n",
    "\n",
    "sample_size  = 500\n",
    "proportion_size  = 60/sample_size\n",
    "\n",
    "\n",
    "Z_score = stats.norm.ppf(0.975) \n",
    "\n",
    "std_error = math.sqrt(proportion_size*(1-proportion_size)/500)\n",
    "lower_ci = proportion_size - Z_score*std_error\n",
    "\n",
    "upper_ci = proportion_size+ Z_score*std_error\n",
    "\n",
    "\n",
    "print(\"The 95% confidence interval for the true proportion of individuals who smoke is: ({:.2%}, {:.2%})\".format(lower_ci, upper_ci))"
   ]
  },
  {
   "cell_type": "markdown",
   "id": "786e4b89-4731-466f-b060-57a5f8de64ed",
   "metadata": {},
   "source": [
    "# Q5. Calculate the 90% confidence interval for a sample of data with a mean of 75 and a standard deviation of 12 using Python. Interpret the results."
   ]
  },
  {
   "cell_type": "code",
   "execution_count": 19,
   "id": "f7ca6527-7d40-4cfc-8bc0-9e6157a176ac",
   "metadata": {},
   "outputs": [
    {
     "name": "stdout",
     "output_type": "stream",
     "text": [
      "The 90% confidence interval for the true proportion of individuals is: (7302.62%, 7697.38%)\n"
     ]
    }
   ],
   "source": [
    "x = 75\n",
    "std_dev = 12\n",
    "n=100 #(assumed)\n",
    "\n",
    "confidence_interval = 0.90\n",
    "\n",
    "std_error = std_dev/(n)**0.5\n",
    "z_score = stats.norm.ppf(0.95)\n",
    "\n",
    "lower_ci = x-z_score*std_error\n",
    "upper_ci = x+z_score*std_error\n",
    "\n",
    "print(\"The 90% confidence interval for the true proportion of individuals is: ({:.2%}, {:.2%})\".format(lower_ci, upper_ci))\n"
   ]
  },
  {
   "cell_type": "markdown",
   "id": "45b16485-7a46-454b-a5be-c614e6210ec9",
   "metadata": {},
   "source": [
    "# Q6. Use Python to plot the chi-square distribution with 10 degrees of freedom. Label the axes and shade the area corresponding to a chi-square statistic of 15."
   ]
  },
  {
   "cell_type": "code",
   "execution_count": 20,
   "id": "8ba7ef90-a37a-46dd-8166-1c1c503fc3fc",
   "metadata": {},
   "outputs": [
    {
     "data": {
      "image/png": "[encoded data removed]",
      "text/plain": [
       "<Figure size 640x480 with 1 Axes>"
      ]
     },
     "metadata": {},
     "output_type": "display_data"
    }
   ],
   "source": [
    "import numpy as np\n",
    "import matplotlib.pyplot as plt\n",
    "import scipy.stats as stats\n",
    "\n",
    "df = 10\n",
    "x = np.linspace(stats.chi2.ppf(0.001, df), stats.chi2.ppf(0.999, df), 1000)\n",
    "\n",
    "plt.plot(x, stats.chi2.pdf(x, df))\n",
    "plt.xlabel('X')\n",
    "plt.ylabel('PDF')\n",
    "plt.fill_between(x[x >= stats.chi2.ppf(0.95, df)], stats.chi2.pdf(x[x >= stats.chi2.ppf(0.95, df)], df), alpha=0.5)\n",
    "\n",
    "plt.show()"
   ]
  },
  {
   "cell_type": "markdown",
   "id": "14b5375a-65bd-4370-96d0-fd337851dd0e",
   "metadata": {},
   "source": [
    "# Q7. A random sample of 1000 people was asked if they preferred Coke or Pepsi. Of the sample, 520 preferred Coke. Calculate a 99% confidence interval for the true proportion of people in the population who prefer Coke."
   ]
  },
  {
   "cell_type": "code",
   "execution_count": 23,
   "id": "61e89218-c381-4218-b7da-15a0f6b4d37d",
   "metadata": {},
   "outputs": [
    {
     "name": "stdout",
     "output_type": "stream",
     "text": [
      "The 99% confidence interval for the true proportion of individuals is: (47.93%, 56.07%)\n"
     ]
    }
   ],
   "source": [
    "n = 1000\n",
    "\n",
    "p= 520/n\n",
    "\n",
    "z_score = stats.norm.ppf(0.995)\n",
    "\n",
    "std_error = math.sqrt(p*(1-p)/n)\n",
    "\n",
    "lower_ci = p-z_score*std_error\n",
    "upper_ci = p+z_score*std_error\n",
    "\n",
    "\n",
    "print(\"The 99% confidence interval for the true proportion of individuals is: ({:.2%}, {:.2%})\".format(lower_ci, upper_ci))\n"
   ]
  },
  {
   "cell_type": "markdown",
   "id": "f3d2150e-b219-4f79-b384-66450972bd0f",
   "metadata": {},
   "source": [
    "# Q8. A researcher hypothesizes that a coin is biased towards tails. They flip the coin 100 times and observe 45 tails. Conduct a chi-square goodness of fit test to determine if the observed frequencies match the expected frequencies of a fair coin. Use a significance level of 0.05."
   ]
  },
  {
   "cell_type": "code",
   "execution_count": 27,
   "id": "bfd491ac-3d54-4a98-98fe-007e61d50cf8",
   "metadata": {},
   "outputs": [
    {
     "name": "stdout",
     "output_type": "stream",
     "text": [
      "1.0\n",
      "3.841458820694124\n",
      "Accept null hypothesis\n"
     ]
    }
   ],
   "source": [
    "observed_value = np.array([45,55])\n",
    "\n",
    "expected_value = np.array([50,50])\n",
    "\n",
    "chisquare_test_statistic,p_val = stats.chisquare(observed_value,expected_value)\n",
    "\n",
    "\n",
    "critical_value = stats.chi2.ppf(0.95,df=1)\n",
    "\n",
    "print(chisquare_test_statistic)\n",
    "print(critical_value)\n",
    "\n",
    "if chisquare_test_statistic > critical_value:\n",
    "    \n",
    "    print(\"Reject null Hypothesis\")\n",
    "else:\n",
    "    print(\"Accept null hypothesis\")"
   ]
  },
  {
   "cell_type": "markdown",
   "id": "112880b4-7d63-456c-8405-9766b24f1156",
   "metadata": {},
   "source": [
    "# Q9. A study was conducted to determine if there is an association between smoking status (smoker or non-smoker) and lung cancer diagnosis (yes or no). The results are shown in the contingency table below. Conduct a chi-square test for independence to determine if there is a significant association between smoking status and lung cancer diagnosis"
   ]
  },
  {
   "cell_type": "code",
   "execution_count": 31,
   "id": "b772e45f-22dc-4019-888c-3e8f595b0e82",
   "metadata": {},
   "outputs": [
    {
     "name": "stdout",
     "output_type": "stream",
     "text": [
      "Chi-square statistic: 12.057347670250895\n",
      "P-value: 0.0005158863863703744\n",
      "The p-value is 0.0005158863863703744 which is less than the significance level of 0.05\n",
      "Reject the null hypothesis of independence between smoking status and lung cancer diagnosis.\n"
     ]
    }
   ],
   "source": [
    "from scipy.stats import chi2_contingency\n",
    "contingency_table = [[60,140], [30, 170]]\n",
    "chi2_stat, p_val, dof, expected = chi2_contingency(contingency_table)\n",
    "print(\"Chi-square statistic:\", chi2_stat)\n",
    "print(\"P-value:\", p_val)\n",
    "alpha = 0.05\n",
    "\n",
    "if p_val < alpha:\n",
    "    print(\"The p-value is\", p_val, \"which is less than the significance level of\", alpha)\n",
    "    print(\"Reject the null hypothesis of independence between smoking status and lung cancer diagnosis.\")\n",
    "else:\n",
    "    print(\"The p-value is\", p_val, \"which is greater than the significance level of\", alpha)\n",
    "    print(\"Fail to reject the null hypothesis of independence between smoking status and lung cancer diagnosis.\")"
   ]
  },
  {
   "cell_type": "markdown",
   "id": "f262b9c9-8bd1-4ec4-969a-30422e9cfbe8",
   "metadata": {},
   "source": [
    "# Q10. A study was conducted to determine if the proportion of people who prefer milk chocolate, dark chocolate, or white chocolate is different in the U.S. versus the U.K. A random sample of 500 people from the U.S. and a random sample of 500 people from the U.K. were surveyed. The results are shown in the contingency table below. Conduct a chi-square test for independence to determine if there is a significant association between chocolate preference and country of origin."
   ]
  },
  {
   "cell_type": "code",
   "execution_count": 32,
   "id": "ff2e7605-8168-473f-ba1a-daa3d5ef45ec",
   "metadata": {},
   "outputs": [
    {
     "name": "stdout",
     "output_type": "stream",
     "text": [
      "The p-value is 0.0012348168997745918 which is less than the significance level of 0.05\n",
      "Reject the null hypothesis of independence between chocolate preference and country of origin.\n"
     ]
    }
   ],
   "source": [
    "import numpy as np\n",
    "import scipy.stats as stats\n",
    "\n",
    "# Set up the contingency table\n",
    "contingency_table = np.array([[200, 150, 150], [225, 175, 100]])\n",
    "\n",
    "# Calculate the test statistic and p-value\n",
    "chi2, p_value, dof, expected = stats.chi2_contingency(contingency_table)\n",
    "\n",
    "# Set the significance level\n",
    "alpha = 0.05\n",
    "\n",
    "# Print the results\n",
    "if p_value < alpha:\n",
    "    print(\"The p-value is\", p_value, \"which is less than the significance level of\", alpha)\n",
    "    print(\"Reject the null hypothesis of independence between chocolate preference and country of origin.\")\n",
    "else:\n",
    "    print(\"The p-value is\", p_value, \"which is greater than the significance level of\", alpha)\n",
    "    print(\"Fail to reject the null hypothesis of independence between chocolate preference and country of origin.\")"
   ]
  },
  {
   "cell_type": "markdown",
   "id": "8da9f524-bfd7-4b12-91fc-52912dbdd021",
   "metadata": {},
   "source": [
    "# Q11. A random sample of 30 people was selected from a population with an unknown mean and standard deviation. The sample mean was found to be 72 and the sample standard deviation was found to be 10. Conduct a hypothesis test to determine if the population mean is significantly different from 70. Use a significance level of 0.05."
   ]
  },
  {
   "cell_type": "code",
   "execution_count": 33,
   "id": "d6e816c9-3044-46b5-ab29-939ca6ec5288",
   "metadata": {},
   "outputs": [
    {
     "name": "stdout",
     "output_type": "stream",
     "text": [
      "Fail to reject the null hypothesis.\n"
     ]
    }
   ],
   "source": [
    "n = 30\n",
    "sample_mean = 72\n",
    "sample_std = 10\n",
    "pop_mean = 70\n",
    "\n",
    "t_statistic = (sample_mean - pop_mean) / (sample_std / np.sqrt(n))\n",
    "degrees_of_freedom = n - 1\n",
    "p_value = stats.t.sf(np.abs(t_statistic), degrees_of_freedom) * 2\n",
    "\n",
    "alpha = 0.05\n",
    "\n",
    "if p_value < alpha:\n",
    "    print(\"Reject the null hypothesis.\")\n",
    "else:\n",
    "    print(\"Fail to reject the null hypothesis.\")"
   ]
  },
  {
   "cell_type": "code",
   "execution_count": null,
   "id": "6c68251e-4b72-4298-af76-ca5f99a65286",
   "metadata": {},
   "outputs": [],
   "source": []
  }
 ],
 "metadata": {
  "kernelspec": {
   "display_name": "Python 3 (ipykernel)",
   "language": "python",
   "name": "python3"
  },
  "language_info": {
   "codemirror_mode": {
    "name": "ipython",
    "version": 3
   },
   "file_extension": ".py",
   "mimetype": "text/x-python",
   "name": "python",
   "nbconvert_exporter": "python",
   "pygments_lexer": "ipython3",
   "version": "3.10.8"
  }
 },
 "nbformat": 4,
 "nbformat_minor": 5
}
