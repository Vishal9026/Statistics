{
 "cells": [
  {
   "cell_type": "markdown",
   "id": "36c1b35f-ca1f-4338-88b3-5a7da56c179f",
   "metadata": {},
   "source": [
    "# Q1: What is the difference between a t-test and a z-test? Provide an example scenario where you would use each type of test."
   ]
  },
  {
   "cell_type": "markdown",
   "id": "a14da3b0-f776-47bc-a472-61a58950ed61",
   "metadata": {},
   "source": [
    "A z-test is used to test a Null Hypothesis if the population variance is known, or if the sample size is larger than 30, for an unknown population variance. A t-test is used when the sample size is less than 30 and the population variance is unknown"
   ]
  },
  {
   "cell_type": "markdown",
   "id": "8c63e7da-aac8-47b5-88e9-d1435608ae4c",
   "metadata": {},
   "source": [
    "Example:\n",
    "\n",
    "Suppose a company wants to determine if the average weight of their product is equal to the weight specified on the packaging, which is 50 grams. They take a random sample of 100 products and measure their weights. The population variance of the weights is known to be 4 grams. In this case, a z-test would be appropriate to test the hypothesis that the mean weight of the products is 50 grams.\n",
    "\n",
    "A t-test is used when the population variance is unknown and the sample size is small (usually less than 30).\n",
    "\n",
    "Example:\n",
    "\n",
    "Suppose a researcher wants to determine if a new treatment is effective in reducing blood pressure. They randomly assign 20 participants to receive the new treatment or a placebo and measure their blood pressure before and after the treatment. The researcher does not know the population variance of the blood pressure measurements. In this case, a t-test would be appropriate to test the hypothesis that the mean reduction in blood pressure is greater in the treatment group compared to the placebo group."
   ]
  },
  {
   "cell_type": "markdown",
   "id": "286c6695-20e6-48e9-a695-a616c901a8bb",
   "metadata": {},
   "source": [
    "# Q2. Differentiate between one-tailed and two-tailed tests."
   ]
  },
  {
   "cell_type": "markdown",
   "id": "131d9c8f-b692-4a0f-a73b-0aadcc5cf885",
   "metadata": {},
   "source": [
    "One-tailed tests allow for the possibility of an effect in one direction. Two-tailed tests test for the possibility of an effect in two directions—positive and negative."
   ]
  },
  {
   "cell_type": "markdown",
   "id": "8e6b3170-7aec-4ca3-91ad-719e357454be",
   "metadata": {},
   "source": [
    "# Q3. Explain the concept of Type 1 and Type 2 errors in hypothesis testing. Provide an example scenario for each type of error."
   ]
  },
  {
   "cell_type": "markdown",
   "id": "dabaf158-2dc6-4efe-b235-26229b6dae7c",
   "metadata": {},
   "source": [
    "In Type 1 error : We reject the null hypothesis, when in reality it is True.\n",
    "\n",
    "Example:\n",
    "\n",
    "Suppose a new drug is tested to see if it is effective in reducing pain. The null hypothesis is that the drug has no effect on pain, but in reality, it does. However, the study concludes that the drug is not effective, and the null hypothesis is rejected, leading to a Type 1 error. This can result in a potentially harmful drug being rejected, leading to patients not receiving the treatment they need.\n",
    "\n",
    "In Type 2 error : We retain the Null Hypothesis, when in reality it is False.\n",
    "\n",
    "Example:\n",
    "\n",
    "Suppose a new drug is tested to see if it is effective in reducing pain. The null hypothesis is that the drug has no effect on pain, and in reality, it doesn't. However, the study concludes that the drug is effective, and the null hypothesis is not rejected, leading to a Type 2 error. This can result in a potentially ineffective drug being approved, leading to patients receiving a treatment that does not work."
   ]
  },
  {
   "cell_type": "markdown",
   "id": "08b1e57f-17e0-4b67-98db-33264de6b069",
   "metadata": {},
   "source": [
    "# Q4. Explain Bayes's theorem with an example."
   ]
  },
  {
   "attachments": {
    "19928a70-5a00-4a3f-a4b8-0eb85f86e279.png": {
     "image/png": "[encoded data removed]"
    }
   },
   "cell_type": "markdown",
   "id": "90489709-f14a-4621-8974-ca2f51d0c444",
   "metadata": {},
   "source": [
    "Bayesian statistics is an approach to data analysis and parameter estimation based on Bayes' theorem.\n",
    "\n",
    "In statistics and probability theory, the Bayes’ theorem (also known as the Bayes’ rule) is a mathematical formula used to determine the conditional probability of events. Essentially, the Bayes’ theorem describes the probability of an event based on prior knowledge of the conditions that might be relevant to the event.\n",
    "\n",
    "Formula for Bayes' theorem\n",
    "\n",
    "The Bayes’ theorem is expressed in the following formula:\n",
    "    \n",
    "![image.png](attachment:19928a70-5a00-4a3f-a4b8-0eb85f86e279.png)!"
   ]
  },
  {
   "cell_type": "markdown",
   "id": "938a350c-7e59-425e-88e8-28a21a47b162",
   "metadata": {},
   "source": [
    "Where:\n",
    "\n",
    "P(A|B) – the probability of event A occurring, given event B has occurred\n",
    "\n",
    "P(B|A) – the probability of event B occurring, given event A has occurred\n",
    "\n",
    "P(A) – the probability of event A\n",
    "\n",
    "P(B) – the probability of event B"
   ]
  },
  {
   "cell_type": "markdown",
   "id": "cc546bbb-e424-408d-86ff-f015384f2035",
   "metadata": {},
   "source": [
    "Example:\n",
    "\n",
    "Suppose a doctor knows that the probability of a patient having a certain disease is 0.05. The doctor also knows that if a person has the disease, the probability of a certain test detecting it is 0.95. However, if a person does not have the disease, there is still a 5% chance that the test will produce a false positive result.\n",
    "\n",
    "If a patient tests positive for the disease, what is the probability that the patient actually has the disease?\n",
    "\n",
    "Using the formula, we can calculate the probability of the patient having the disease given that they have tested positive as follows:\n",
    "\n",
    "P(A|B) = (P(B|A) * P(A)) / (P(B|A) * P(A) + P(B|~A) * P(~A))\n",
    "= (0.95 * 0.05) / (0.95 * 0.05 + 0.05 * 0.95)\n",
    "= 0.5 or 50%\n"
   ]
  },
  {
   "cell_type": "markdown",
   "id": "9f05ea53-1ef8-4b45-a560-cd01052fc8aa",
   "metadata": {},
   "source": [
    "# Q5. What is a confidence interval? How to calculate the confidence interval, explain with an example."
   ]
  },
  {
   "cell_type": "markdown",
   "id": "6996a4b7-17f7-418f-853f-7e84e50efb18",
   "metadata": {},
   "source": [
    "A confidence interval is a range of values that is likely to contain the true value of a population parameter with a certain level of confidence. It is used in statistics to estimate an unknown population parameter, such as a mean or proportion, based on a sample of data.\n",
    "\n",
    "The formula for calculating a confidence interval for a population mean is:\n",
    "\n",
    "CI = X̄ ± z * (s / sqrt(n))\n",
    "\n",
    "Where:\n",
    "CI is the confidence interval\n",
    "X̄ is the sample mean\n",
    "z is the z-score associated with the desired level of confidence (e.g., 1.96 for a 95% confidence interval)\n",
    "s is the sample standard deviation\n",
    "n is the sample size\n",
    "\n",
    "Example:\n",
    "\n",
    "Suppose we want to estimate the mean height of all adult males in a certain population. We take a random sample of 50 adult males and measure their heights. The sample mean height is 175 cm, and the sample standard deviation is 8 cm.\n",
    "\n",
    "We want to calculate a 95% confidence interval for the population mean height.\n",
    "\n",
    "First, we need to find the z-score associated with a 95% confidence level. From a standard normal distribution table, we can see that the z-score for a 95% confidence level is 1.96.\n",
    "\n",
    "Next, we can use the formula to calculate the confidence interval:\n",
    "\n",
    "CI = 175 ± 1.96 * (8 / sqrt(50))\n",
    "= 175 ± 2.83\n",
    "= (172.17, 177.83)\n",
    "\n",
    "Therefore, we can be 95% confident that the true population mean height falls between 172.17 and 177.83 cm."
   ]
  },
  {
   "cell_type": "markdown",
   "id": "73e76e13-bc97-4f54-b3cf-bb11f4e4c90d",
   "metadata": {},
   "source": [
    "# Q7. Calculate the 95% confidence interval for a sample of data with a mean of 50 and a standard deviation of 5. Interpret the results."
   ]
  },
  {
   "cell_type": "markdown",
   "id": "7433b385-eed9-4442-86b4-e4436203a1ee",
   "metadata": {},
   "source": [
    "mean = 50 ,standard diviation = 5 ,CI = .95 , significant-value = 1-0.25=.9750\n",
    "\n",
    "by the help of z-table we get value of .9750 is +1.96 and -1.96\n",
    "\n",
    "point estimate (plus minus) margin of error\n",
    "\n",
    "mean (plus minus) Z_score* standard_value/sqrt(50)\n",
    "\n",
    "by calculation we get\n",
    "\n",
    "left value is 51.96  and right value is 48.04\n",
    "\n",
    "i am 95% cofident that the mean confidence interval range lies between 51.96 and 48.04"
   ]
  },
  {
   "cell_type": "markdown",
   "id": "3f12b041-5a12-4959-bf82-48c8b9e92a09",
   "metadata": {},
   "source": [
    "# Q8. What is the margin of error in a confidence interval? How does sample size affect the margin of error? Provide an example of a scenario where a larger sample size would result in a smaller margin of error."
   ]
  },
  {
   "cell_type": "markdown",
   "id": "948680da-f64f-49c7-8caf-31b6ba65c0bc",
   "metadata": {},
   "source": [
    "The margin of error is a measure of the uncertainty in an estimated population parameter based on a sample. It is the range of values around the point estimate that is likely to contain the true population parameter with a certain level of confidence.\n",
    "\n",
    "Sample size affects the margin of error in that a larger sample size will generally result in a smaller margin of error. This is because a larger sample size provides more information about the population and reduces the impact of random sampling variability on the point estimate. Specifically, the margin of error decreases as the square root of the sample size increases.\n",
    "\n",
    "Example:\n",
    "\n",
    "Suppose we want to estimate the proportion of people in a city who support a certain policy. We take a random sample of 500 people and find that 60% of them support the policy. We also calculate a 95% confidence interval with a margin of error of 4%. This means that we are 95% confident that the true proportion of people who support the policy in the city falls between 56% and 64%.\n",
    "\n",
    "Now, suppose we increase the sample size to 1000. We recalculate the point estimate as 60% and the margin of error as 2.8%. This means that we are 95% confident that the true proportion of people who support the policy in the city falls between 57.2% and 62.8%. As we can see, a larger sample size has resulted in a smaller margin of error and a narrower confidence interval.\n"
   ]
  },
  {
   "cell_type": "markdown",
   "id": "f3412127-8b96-4285-ae4b-6c7515b4b211",
   "metadata": {},
   "source": [
    "# Q9. Calculate the z-score for a data point with a value of 75, a population mean of 70, and a population standard deviation of 5 Interpret the results."
   ]
  },
  {
   "cell_type": "markdown",
   "id": "5abe4ddd-bc99-46aa-ac4c-80d1fee0db45",
   "metadata": {},
   "source": [
    "for calculating z score we use z score formula:\n",
    "   \n",
    "Where, x = Standardized random variable. x̅ = Mean. σ = Standard deviation. \n",
    "  \n",
    "    Z Score = (x − x̅ )/σ\n",
    "    \n",
    "    x=75\n",
    "    \n",
    "    x̅ = 70\n",
    "    \n",
    "    σ = 5\n",
    "    \n",
    "    Z Score is 1"
   ]
  },
  {
   "cell_type": "markdown",
   "id": "c432089a-e95d-4a58-974b-289d56f8b443",
   "metadata": {},
   "source": [
    "# Q10. In a study of the effectiveness of a new weight loss drug, a sample of 50 participants lost an average of 6 pounds with a standard deviation of 2.5 pounds. Conduct a hypothesis test to determine if the drug is significantly effective at a 95% confidence level using a t-test."
   ]
  },
  {
   "cell_type": "code",
   "execution_count": 11,
   "id": "ced74ca1-1f6a-40c6-99ea-48c82d60a1fe",
   "metadata": {},
   "outputs": [
    {
     "name": "stdout",
     "output_type": "stream",
     "text": [
      "Reject null hypothesis\n"
     ]
    }
   ],
   "source": [
    "import numpy as np \n",
    "import scipy.stats as stats\n",
    "from scipy.stats import t\n",
    "\n",
    "n = 50\n",
    "\n",
    "sample_mean = 6\n",
    "\n",
    "sample_std = 2.5\n",
    "\n",
    "# Define the null hypothesis parameters\n",
    "null_mean = 0\n",
    "\n",
    "alpha = 0.05\n",
    "\n",
    "dfd  =  n -1\n",
    "\n",
    "t_stats = (sample_mean - null_mean)/(sample_std/n**0.5)\n",
    "\n",
    "\n",
    "t_crit = stats.t.ppf(alpha,dfd)\n",
    " \n",
    "\n",
    "if t_stats > (t_crit*(-1)):\n",
    "    print(\"Reject null hypothesis\")\n",
    "else:\n",
    "    print(\"Accept null hypothesis\")"
   ]
  },
  {
   "cell_type": "markdown",
   "id": "91a101fa-cf42-4eed-abf9-76398d8281da",
   "metadata": {},
   "source": [
    "# Q11. In a survey of 500 people, 65% reported being satisfied with their current job. Calculate the 95% confidence interval for the true proportion of people who are satisfied with their job."
   ]
  },
  {
   "cell_type": "code",
   "execution_count": 17,
   "id": "c096c85c-2317-47a0-84bb-5778a0948192",
   "metadata": {},
   "outputs": [
    {
     "name": "stdout",
     "output_type": "stream",
     "text": [
      "Sample Size:  500\n",
      "Sample Proportion:  0.65\n",
      "Standard Error:  0.02133072900770154\n",
      "Margin of Error:  0.04180746061907883\n",
      "95% Confidence Interval: (0.6082, 0.6918)\n"
     ]
    }
   ],
   "source": [
    "import math\n",
    "import scipy.stats as stats\n",
    "import numpy as np\n",
    "n = 500\n",
    "\n",
    "p = 0.65\n",
    "\n",
    "alpha = 0.05\n",
    "\n",
    "std_error = math.sqrt((p*(1-p))/n)\n",
    "\n",
    "Z_score = stats.norm.ppf(0.975)\n",
    "\n",
    "margin_of_error = Z_score*std_error\n",
    "\n",
    "lower_bound = p - margin_of_error\n",
    "\n",
    "upper_bound = p + margin_of_error\n",
    "\n",
    "print(\"Sample Size: \", n)\n",
    "print(\"Sample Proportion: \", p)\n",
    "print(\"Standard Error: \", std_error)\n",
    "print(\"Margin of Error: \", margin_of_error)\n",
    "print(\"95% Confidence Interval: ({:.4f}, {:.4f})\".format(lower_bound, upper_bound))\n"
   ]
  },
  {
   "cell_type": "markdown",
   "id": "1aed9c2c-e347-4093-a590-8332fc155c0f",
   "metadata": {},
   "source": [
    "# Q 12. A researcher is testing the effectiveness of two different teaching methods on student performance. Sample A has a mean score of 85 with a standard deviation of 6, while sample B has a mean score of 82 with a standard deviation of 5. Conduct a hypothesis test to determine if the two teaching methods have a significant difference in student performance using a t-test with a significance level of 0.01."
   ]
  },
  {
   "cell_type": "code",
   "execution_count": 18,
   "id": "60b61547-87d1-4b1b-b5ca-8d6b1de82e21",
   "metadata": {},
   "outputs": [
    {
     "name": "stdout",
     "output_type": "stream",
     "text": [
      "t-statistic: 1.9891043624117266\n",
      "critical t-value: -2.671822636241003\n",
      "Reject null hypothesis\n"
     ]
    }
   ],
   "source": [
    "import numpy as np\n",
    "from scipy.stats import t\n",
    "\n",
    "# sample A statistics\n",
    "nA = 30\n",
    "meanA = 85\n",
    "stdA = 6\n",
    "\n",
    "# sample B statistics\n",
    "nB = 25\n",
    "meanB = 82\n",
    "stdB = 5\n",
    "\n",
    "# calculate pooled standard deviation\n",
    "sp = np.sqrt(((nA-1)*stdA**2 + (nB-1)*stdB**2) / (nA + nB - 2))\n",
    "\n",
    "# calculate t-statistic\n",
    "t_stat = (meanA - meanB) / (sp * np.sqrt(1/nA + 1/nB))\n",
    "\n",
    "# calculate critical t-value\n",
    "df = nA + nB - 2\n",
    "alpha = 0.01\n",
    "t_crit = t.ppf(alpha/2, df)\n",
    "\n",
    "# print results\n",
    "print(\"t-statistic:\", t_stat)\n",
    "print(\"critical t-value:\", t_crit)\n",
    "\n",
    "if abs(t_stat) > t_crit:\n",
    "    print(\"Reject null hypothesis\")\n",
    "else:\n",
    "    print(\"Fail to reject null hypothesis\")\n"
   ]
  },
  {
   "cell_type": "markdown",
   "id": "4d581ac2-e61e-451e-af12-7f839a5fabc5",
   "metadata": {},
   "source": [
    "# Q13. A population has a mean of 60 and a standard deviation of 8. A sample of 50 observations has a mean of 65. Calculate the 90% confidence interval for the true population mean"
   ]
  },
  {
   "cell_type": "code",
   "execution_count": 22,
   "id": "8ef3e414-de78-4adc-ade6-bf8dd8329963",
   "metadata": {},
   "outputs": [
    {
     "name": "stdout",
     "output_type": "stream",
     "text": [
      "90% Confidence Interval: (63.1391, 66.8609)\n"
     ]
    }
   ],
   "source": [
    "import numpy as np \n",
    "import scipy.stats as stats\n",
    "from scipy.stats import t\n",
    "import math\n",
    "\n",
    "n = 50\n",
    "\n",
    "sample_mean = 65\n",
    "\n",
    "sample_std = 8\n",
    "\n",
    "# Define the null hypothesis parameters\n",
    "mean = 60\n",
    "\n",
    "alpha = 0.1\n",
    "\n",
    "z_score == stats.norm.ppf(.95) \n",
    "\n",
    "std_error = sample_std/(math.sqrt(50))\n",
    "\n",
    "lower_bound = sample_mean - z_score*std_error\n",
    "upper_bound = sample_mean + z_score*std_error\n",
    "\n",
    "print(\"90% Confidence Interval: ({:.4f}, {:.4f})\".format(lower_bound, upper_bound))\n"
   ]
  },
  {
   "cell_type": "markdown",
   "id": "9e2e40a9-a075-4a6f-860d-5b368021f275",
   "metadata": {},
   "source": [
    "# Q14. In a study of the effects of caffeine on reaction time, a sample of 30 participants had an average reaction time of 0.25 seconds with a standard deviation of 0.05 seconds. Conduct a hypothesis test to determine if the caffeine has a significant effect on reaction time at a 90% confidence level using a t-test."
   ]
  },
  {
   "cell_type": "code",
   "execution_count": 24,
   "id": "52bc04d0-a158-4617-a335-89843dc1521a",
   "metadata": {},
   "outputs": [
    {
     "name": "stdout",
     "output_type": "stream",
     "text": [
      "t-statistic: 0.0\n",
      "critical t-value: -1.6991270265334977\n",
      "we fail to Reject null hypothesis\n",
      "90% confidence interval: (0.2655108366749846, 0.2344891633250154)\n"
     ]
    }
   ],
   "source": [
    "import numpy as np\n",
    "from scipy.stats import t\n",
    "\n",
    "# sample statistics\n",
    "n = 30\n",
    "x_bar = 0.25\n",
    "s = 0.05\n",
    "\n",
    "# hypothesized population mean\n",
    "mu = 0.25\n",
    "\n",
    "# calculate t-statistic\n",
    "t_stat = (x_bar - mu) / (s / np.sqrt(n))\n",
    "\n",
    "# calculate critical t-value\n",
    "df = n - 1\n",
    "alpha = 0.1\n",
    "t_crit = t.ppf(alpha/2, df)\n",
    "\n",
    "# calculate confidence interval\n",
    "margin_error = t_crit * (s / np.sqrt(n))\n",
    "conf_int = (x_bar - margin_error, x_bar + margin_error)\n",
    "\n",
    "# print results\n",
    "print(\"t-statistic:\", t_stat)\n",
    "print(\"critical t-value:\", t_crit)\n",
    "if abs(t_stat) > t_crit:\n",
    "    print(\"we fail to Reject null hypothesis\")\n",
    "else:\n",
    "    print(\"reject null hypothesis\")\n",
    "print(\"90% confidence interval:\", conf_int)\n"
   ]
  },
  {
   "cell_type": "code",
   "execution_count": null,
   "id": "27b451ba-aa25-4a84-ac6e-5b7c7821e376",
   "metadata": {},
   "outputs": [],
   "source": []
  },
  {
   "cell_type": "code",
   "execution_count": null,
   "id": "36313e91-ab99-4fc4-b383-9ca87eeb35e1",
   "metadata": {},
   "outputs": [],
   "source": []
  },
  {
   "cell_type": "code",
   "execution_count": null,
   "id": "b122f889-f6b2-4e89-8da6-e35e35c5eef8",
   "metadata": {},
   "outputs": [],
   "source": []
  }
 ],
 "metadata": {
  "kernelspec": {
   "display_name": "Python 3 (ipykernel)",
   "language": "python",
   "name": "python3"
  },
  "language_info": {
   "codemirror_mode": {
    "name": "ipython",
    "version": 3
   },
   "file_extension": ".py",
   "mimetype": "text/x-python",
   "name": "python",
   "nbconvert_exporter": "python",
   "pygments_lexer": "ipython3",
   "version": "3.10.8"
  }
 },
 "nbformat": 4,
 "nbformat_minor": 5
}
