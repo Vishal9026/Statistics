{
 "cells": [
  {
   "cell_type": "markdown",
   "id": "fcae08c1-f29e-48ba-8279-292417eacbf3",
   "metadata": {},
   "source": [
    "# Q1: What is Estimation Statistics? Explain point estimate and interval estimate."
   ]
  },
  {
   "cell_type": "markdown",
   "id": "055fdcd7-b0cb-4d4a-9100-2c4bcbd4e422",
   "metadata": {},
   "source": [
    "Estimation statistics is a branch of statistics that involves using data from a sample to make inferences about the population. The goal of estimation is to provide information about population parameters, such as the mean or proportion, based on a sample of data.\n",
    "\n",
    "There are two main types of estimates: point estimates and interval estimates.\n",
    "\n",
    "1-Point Estimate: A point estimate is a single value that is used to estimate a population parameter. It is obtained by using a sample statistic, such as the sample mean or sample proportion, to estimate the corresponding population parameter.\n",
    "\n",
    "2-Interval Estimate: An interval estimate, also called a confidence interval, is a range of values that is likely to contain the true population parameter with a certain level of confidence. It is obtained by using a sample statistic, such as the sample mean or sample proportion, to calculate an interval of values that is likely to contain the true population parameter."
   ]
  },
  {
   "cell_type": "markdown",
   "id": "6865512b-23c7-4097-bac1-4bd6a19c6eee",
   "metadata": {},
   "source": [
    "# Q2: Write a Python function to estimate the population mean using a sample mean and standard deviation."
   ]
  },
  {
   "cell_type": "code",
   "execution_count": 42,
   "id": "b883112c-d3b7-4a69-9e90-57ed52c84239",
   "metadata": {},
   "outputs": [
    {
     "name": "stdout",
     "output_type": "stream",
     "text": [
      "Population mean: 2.0\n"
     ]
    }
   ],
   "source": [
    "import math\n",
    "\n",
    "def population_mean(sample_mean, sample_std, sample_size):\n",
    "    std_error = sample_std / math.sqrt(sample_size)\n",
    "    z_value = 1.96 # assume a 95% confidence level and use the corresponding z-value\n",
    "    margin_of_error = z_value * std_error \n",
    "    lower_bound = sample_mean - margin_of_error \n",
    "    upper_bound = sample_mean + margin_of_error \n",
    "    return ((lower_bound + upper_bound) / 2)\n",
    "\n",
    "result = population_mean(2,5,20000)\n",
    "\n",
    "print(f\"Population mean: {result}\")"
   ]
  },
  {
   "cell_type": "markdown",
   "id": "87441774-d239-4cde-b8b0-9cfab0d7b3ee",
   "metadata": {},
   "source": [
    "# Q3.What is Hypothesis testing? Why is it used? State the importance of Hypothesis testing"
   ]
  },
  {
   "cell_type": "markdown",
   "id": "b0972a4e-3791-46d4-986e-424deda836ae",
   "metadata": {},
   "source": [
    "Hypothesis testing is a statistical method used to make decisions or draw conclusions about a population based on a sample of data. It involves comparing a hypothesis or claim about a population parameter (such as a mean or proportion) with the data from a sample, in order to determine if the hypothesis is likely to be true.\n",
    "\n",
    "Hypothesis testing is used to test the validity of a theory or claim.\n",
    "\n",
    "For example, in medical research, hypothesis testing can be used to determine if a new drug is effective in treating a disease by comparing its effects to a placebo. In business, hypothesis testing can be used to evaluate whether a new marketing strategy is effective in increasing sales.\n",
    "\n",
    "The importance of hypothesis testing lies in its ability to provide evidence for or against a theory or claim, and to help researchers make informed decisions based on data. It allows researchers to determine if an observed difference between groups or variables is statistically significant or simply due to chance, and to quantify the level of uncertainty in their findings. This can help researchers to draw conclusions that are based on evidence and minimize the risk of drawing incorrect or unsupported conclusions."
   ]
  },
  {
   "cell_type": "markdown",
   "id": "3a6aaeee-c95d-440b-9b9e-2261349009e4",
   "metadata": {},
   "source": [
    "# Q4: Create a hypothesis that states whether the average weight of male college students is greater than the average weight of female college students."
   ]
  },
  {
   "cell_type": "markdown",
   "id": "22e76588-6b30-4c58-bc71-ec962e7a925d",
   "metadata": {},
   "source": [
    "The null hypothesis would be:\n",
    "\n",
    "H0: The average weight of male college students is not greater than the average weight of female college students.\n",
    "\n",
    "The alternative hypothesis would be:\n",
    "\n",
    "H1: The average weight of male college students is greater than the average weight of female college students."
   ]
  },
  {
   "cell_type": "markdown",
   "id": "146df713-a6be-4af4-adc0-aeb36fe3886f",
   "metadata": {},
   "source": [
    "# Q5: Write a Python script to conduct a hypothesis test on the difference between two population means, given a sample from each population."
   ]
  },
  {
   "cell_type": "code",
   "execution_count": 43,
   "id": "51aa3741-56e4-4a03-827d-915bcd7971ff",
   "metadata": {},
   "outputs": [
    {
     "name": "stdout",
     "output_type": "stream",
     "text": [
      "t-statistic:  -5.84936827086382\n",
      "p-value:  2.012885746628839e-08\n",
      "Reject null hypothesis\n"
     ]
    }
   ],
   "source": [
    "import numpy as np\n",
    "from scipy.stats import ttest_ind\n",
    "\n",
    "# create two random samples\n",
    "sample1 = np.random.normal(10, 2, 100)\n",
    "sample2 = np.random.normal(12, 2, 100)\n",
    "\n",
    "# conduct t-test\n",
    "t_stat, p_val = ttest_ind(sample1, sample2)\n",
    "\n",
    "# print results\n",
    "print(\"t-statistic: \", t_stat)\n",
    "print(\"p-value: \", p_val)\n",
    "\n",
    "# check if p-value is significant at 5% level\n",
    "if p_val < 0.05:\n",
    "    print(\"Reject null hypothesis\")\n",
    "else:\n",
    "    print(\"Fail to reject null hypothesis\")"
   ]
  },
  {
   "cell_type": "markdown",
   "id": "c2b2bbe4-91b5-4b99-bbac-7fbbc68226fa",
   "metadata": {},
   "source": [
    "# Q6: What is a null and alternative hypothesis? Give some examples.\n",
    "The null hypothesis (H0) states that there is no significant difference between two populations or variables. It is often the default or conventional position and is tested against the alternative hypothesis. In other words, it is the claim that researchers aim to reject or fail to reject based on the evidence from the data.\n",
    "\n",
    "The alternative hypothesis (H1) is the complement of the null hypothesis and states that there is a significant difference between two populations or variables. It represents the claim that researchers seek to support or prove based on the evidence from the data.\n",
    "\n",
    "Examples:\n",
    "\n",
    "Null hypothesis: The average IQ scores of two groups of students are equal.\n",
    "Alternative hypothesis: The average IQ score of one group of students is significantly different from the other group.\n",
    "\n",
    "Null hypothesis: The new drug has no effect on curing a disease.\n",
    "Alternative hypothesis: The new drug is significantly more effective in curing the disease than the current drug."
   ]
  },
  {
   "cell_type": "markdown",
   "id": "b97ef93f-b0bb-4276-97df-9769a7686123",
   "metadata": {},
   "source": [
    "# Q7:Write down the steps involved in hypothesis testing.\n",
    "The general steps involved in hypothesis testing are:\n",
    "\n",
    "1-State the null and alternative hypotheses: Identify the research question and define the null and alternative hypotheses that represent the possible outcomes.\n",
    "\n",
    "2-Determine the test statistic: Choose an appropriate statistical test (e.g., t-test, ANOVA, chi-square) based on the research question and data type, and calculate the test statistic using the sample data.\n",
    "\n",
    "3-Set the significance level: Determine the level of significance (alpha) to use for the test. This is the probability of rejecting the null hypothesis when it is true and is typically set at 0.05.\n",
    "\n",
    "4-Calculate the p-value: Calculate the probability of observing the test statistic or a more extreme value under the null hypothesis.\n",
    "\n",
    "5-Make a decision: Compare the p-value to the significance level and make a decision whether to reject or fail to reject the null hypothesis. If the p-value is less than or equal to the significance level, reject the null hypothesis; otherwise, fail to reject the null hypothesis."
   ]
  },
  {
   "cell_type": "markdown",
   "id": "ffa1143d-35a6-4f29-bc2a-19ff2bb7c33f",
   "metadata": {},
   "source": [
    "# Q8: Define p-value and explain its significance in hypothesis testing.\n",
    "The p-value in hypothesis testing is the probability of observing a test statistic or a more extreme value, given that the null hypothesis is true. In other words, it is the probability of obtaining the observed data or more extreme data if the null hypothesis is true. The p-value provides a measure of the strength of evidence against the null hypothesis. A small p-value indicates strong evidence against the null hypothesis, while a large p-value indicates weak evidence against the null hypothesis.\n",
    "\n",
    "The p-value is a key component of hypothesis testing because it helps researchers make decisions about the null hypothesis. If the p-value is small (e.g., less than or equal to the significance level), it suggests that the observed data is unlikely to have occurred by chance under the null hypothesis, and the null hypothesis is rejected. If the p-value is large (e.g., greater than the significance level), it suggests that the observed data is consistent with the null hypothesis, and the null hypothesis is not rejected."
   ]
  },
  {
   "cell_type": "markdown",
   "id": "220f50c2-5911-4db7-b270-1fca63fb6538",
   "metadata": {},
   "source": [
    "# Q9: Generate a Student's t-distribution plot using Python's matplotlib library, with the degrees of freedom parameter set to 10"
   ]
  },
  {
   "cell_type": "code",
   "execution_count": 44,
   "id": "2088ef6f-5731-4c03-957d-126ce881ace0",
   "metadata": {},
   "outputs": [
    {
     "data": {
      "text/plain": [
       "(array([0.00039162, 0.00039162, 0.00097904, 0.00391617, 0.00900719,\n",
       "        0.01605629, 0.04151138, 0.09712096, 0.17485689, 0.28196408,\n",
       "        0.36831558, 0.37379822, 0.27158624, 0.16408743, 0.08733054,\n",
       "        0.03935749, 0.01468563, 0.00802814, 0.00391617, 0.00078323]),\n",
       " array([-5.60286839, -5.09216504, -4.58146169, -4.07075835, -3.560055  ,\n",
       "        -3.04935166, -2.53864831, -2.02794496, -1.51724162, -1.00653827,\n",
       "        -0.49583493,  0.01486842,  0.52557177,  1.03627511,  1.54697846,\n",
       "         2.0576818 ,  2.56838515,  3.0790885 ,  3.58979184,  4.10049519,\n",
       "         4.61119853]),\n",
       " <BarContainer object of 20 artists>)"
      ]
     },
     "execution_count": 44,
     "metadata": {},
     "output_type": "execute_result"
    },
    {
     "data": {
      "image/png": "[encoded data removed]",
      "text/plain": [
       "<Figure size 640x480 with 1 Axes>"
      ]
     },
     "metadata": {},
     "output_type": "display_data"
    }
   ],
   "source": [
    "from scipy.stats import t\n",
    "import matplotlib.pyplot as plt\n",
    "\n",
    "#generate t distribution with sample size 10000\n",
    "x = t.rvs(df=10, size=10000)\n",
    "\n",
    "plt.hist(x, density=True, edgecolor='black', bins=20)"
   ]
  },
  {
   "cell_type": "markdown",
   "id": "d99705a5-fb4b-4689-9fc3-7dac817500fa",
   "metadata": {},
   "source": [
    "# Q10: Write a Python program to calculate the two-sample t-test for independent samples, given two random samples of equal size and a null hypothesis that the population means are equal."
   ]
  },
  {
   "cell_type": "code",
   "execution_count": 45,
   "id": "15045f81-bcea-4674-9e84-95e63c5e2688",
   "metadata": {},
   "outputs": [
    {
     "name": "stdout",
     "output_type": "stream",
     "text": [
      "t-test statistic: -7.427310139538608\n",
      "p-value: 3.2311429558141006e-12\n",
      "Reject the null hypothesis\n"
     ]
    }
   ],
   "source": [
    "import numpy as np\n",
    "from scipy.stats import ttest_ind\n",
    "\n",
    "sample1 = np.random.normal(10, 2, 100)\n",
    "sample2 = np.random.normal(12, 2, 100)\n",
    "\n",
    "#calculate the t-test statistic and p-value\n",
    "t_statistic, p_value = ttest_ind(sample1, sample2)\n",
    "\n",
    "print(\"t-test statistic:\", t_statistic)\n",
    "print(\"p-value:\", p_value)\n",
    "\n",
    "#compare the p-value to the significance level\n",
    "alpha = 0.05\n",
    "if p_value < alpha:\n",
    "    print(\"Reject the null hypothesis\")\n",
    "else:\n",
    "    print(\"Fail to reject the null hypothesis\")"
   ]
  },
  {
   "cell_type": "markdown",
   "id": "68b1ef27-50a7-4a19-a735-dd6689599a03",
   "metadata": {},
   "source": [
    "# Q11: What is Student’s t distribution? When to use the t-Distribution.\n",
    "Student's t distribution is a probability distribution that is used in hypothesis testing when the sample size is small and the population standard deviation is unknown. It is similar to the standard normal distribution (z-distribution), but has heavier tails, which means it has more probability in the tails and less in the center compared to the standard normal distribution. The shape of the t-distribution depends on the sample size, with smaller sample sizes resulting in a more spread-out distribution.\n",
    "\n",
    "The t-distribution is used in situations where the population standard deviation is unknown and must be estimated from the sample data. It is also used when the sample size is small (typically less than 30) and the population is normally distributed. The t-distribution allows for greater uncertainty in the estimate of the population standard deviation due to the smaller sample size.\n",
    "\n",
    "# Q12: What is t-statistic? State the formula for t-statistic.\n",
    "Answer: The t-statistic is a measure of how many standard errors the sample mean is from the hypothesized population mean, under the assumption that the population variance is unknown and must be estimated from the sample data. It is used in hypothesis testing to determine whether the difference between the sample mean and the hypothesized population mean is statistically significant.\n",
    "\n",
    "The formula for the t-statistic is: t = (x̄ - μ) / (s / √n)\n",
    "\n",
    "where x̄ is the sample mean\n",
    "\n",
    "μ is the hypothesized population mean\n",
    "\n",
    "s is the sample standard deviation\n",
    "\n",
    "n is the sample size\n",
    "\n",
    "√n is the square root of the sample size"
   ]
  },
  {
   "cell_type": "markdown",
   "id": "d084653e-e4aa-48ec-8275-ccbec76d47fb",
   "metadata": {},
   "source": [
    "# Q13: A coffee shop owner wants to estimate the average daily revenue for their shop. They take a random sample of 50 days and find the sample mean revenue to be 500 dollars with a standard deviation of 50 dollars. Estimate the population mean revenue with a 95% confidence interval.\n",
    "To estimate the population mean revenue with a 95% confidence interval, we can use the following formula:\n",
    "\n",
    "Confidence Interval = sample mean ± margin of error\n",
    "\n",
    "where the margin of error is given by:\n",
    "\n",
    "Margin of Error = critical value * standard error\n",
    "\n",
    "The standard error is the standard deviation of the sample divided by the square root of the sample size:\n",
    "\n",
    "Standard Error = standard deviation / sqrt(sample size)\n",
    "\n",
    "Substituting the values given in the problem statement, we get:\n",
    "\n",
    "Standard Error = 50 / sqrt(50) = 7.07\n",
    "Margin of Error = 1.96 * 7.07 = 13.85\n",
    "\n",
    "Therefore, the 95% confidence interval for the population mean revenue is:\n",
    "\n",
    "500 ± 13.85, or (486.15, 513.85)\n",
    "\n",
    "We can be 95% confident that the true population mean revenue falls within this interval."
   ]
  },
  {
   "cell_type": "markdown",
   "id": "1283353f-f9b8-4881-bbb7-e2e89b6ac97c",
   "metadata": {},
   "source": [
    "# Q14: A researcher hypothesizes that a new drug will decrease blood pressure by 10 mmHg. They conduct a clinical trial with 100 patients and find that the sample mean decrease in blood pressure is 8 mmHg with a standard deviation of 3 mmHg. Test the hypothesis with a significance level of 0.05."
   ]
  },
  {
   "cell_type": "code",
   "execution_count": 46,
   "id": "57623fde-1e95-43a7-87bf-2eb8912ae7b8",
   "metadata": {},
   "outputs": [],
   "source": [
    "# Population mean = 10\n",
    "# sample size n = 100\n",
    "# sample mean = 8\n",
    "# standard diviation = 3\n",
    "# significance level = 0.05\n",
    "\n",
    "# null hypothesis H0 = 10\n",
    "# alternative hypothesis H1 != 10\n"
   ]
  },
  {
   "cell_type": "code",
   "execution_count": 47,
   "id": "f05a3eeb-8244-48ca-a402-cabf5bac2309",
   "metadata": {},
   "outputs": [
    {
     "data": {
      "text/plain": [
       "-6.666666666666667"
      ]
     },
     "execution_count": 47,
     "metadata": {},
     "output_type": "execute_result"
    }
   ],
   "source": [
    "import math\n",
    "# With the help of significant value = 0.05,  C.I = 1-.05= .95\n",
    "# Z-score is +1.5 aud -1.5\n",
    "def sample_mean(p,m,d,n):\n",
    "    s= d/math.sqrt(n)\n",
    "    q = m-p\n",
    "    Z_test = q/s\n",
    "    return Z_test\n",
    "sample_mean(10,8,3,100)\n",
    "   \n",
    "\n",
    "    \n",
    "\n"
   ]
  },
  {
   "cell_type": "markdown",
   "id": "bdd0ecd6-12ee-4fb0-87bc-36ca112e8ee7",
   "metadata": {},
   "source": [
    "# Q15: An electronics company produces a certain type of product with a mean weight of 5 pounds and a standard deviation of 0.5 pounds. A random sample of 25 products is taken, and the sample mean weight is found to be 4.8 pounds. Test the hypothesis that the true mean weight of the products is less than 5 pounds with a significance level of 0.01.\n",
    "The following values are given in the question:\n",
    "\n",
    "Population Mean = 5\n",
    "Sample Size = n = 25\n",
    "Sample Mean = 4.8\n",
    "Standard Deviation = 0.5\n",
    "Significance Level = 0.01\n",
    "Confidence Interval = 0.99\n",
    "\n",
    "My null and alternate hypothesis are as follows:\n",
    "\n",
    "Null Hypothesis = H0 => Population Mean = 5 Alternate Hypothesis = H1 => Population Mean < 5\n",
    "\n",
    "Then I utilized the follwing z-test formula:\n",
    "\n",
    "download.png\n",
    "\n",
    "I got the following value: -2\n",
    "\n",
    "From utilizing z-table i obgtained values for z-score of -2:\n",
    "\n",
    "z-score = 0.02275\n",
    "\n",
    "Which also becomes my p-value:\n",
    "\n",
    "p-value = 0.02275\n",
    "\n",
    "Then i checked whether p-value < significance value\n",
    "\n",
    "0.02775 < 0.01\n",
    "False\n",
    "\n",
    "So my final conclusion was:\n",
    "\n",
    "Failed to reject null hypothesis"
   ]
  },
  {
   "cell_type": "markdown",
   "id": "b18af988-c31f-4b80-b3ef-6372d362c800",
   "metadata": {},
   "source": [
    "# Q16: Two groups of students are given different study materials to prepare for a test. The first group (n1 = 30) has a mean score of 80 with a standard deviation of 10, and the second group (n2 = 40) has a mean score of 75 with a standard deviation of 8. Test the hypothesis that the population means for the two groups are equal with a significance level of 0.01.\n",
    "My null and alternate hypothesis are as follows:\n",
    "\n",
    "Null Hypothesis = H0 => Population Mean of Group 1 = Population Mean of Group 2\n",
    "Alternate Hypothesis = H1 => Population Mean of Group 1 != Population Mean of Group 2\n",
    "\n",
    "Then I utilized the follwing two sample T-test formula:\n",
    "\n",
    "download.png\n",
    "\n",
    "I got the value of t as:\n",
    "\n",
    "t = 2.37\n",
    "\n",
    "Then I utilized t-table to look for the value of t for the following parameters:\n",
    "\n",
    "Degrees of Freedom = 68\n",
    "Significance Value = 0.01\n",
    "\n",
    "I got the following value of t fromt the table:\n",
    "\n",
    "t = ± 2.638\n",
    "\n",
    "Since 2.37 lies in the region ±2.638 so, the final conclusion was:\n",
    "\n",
    "Failed to reject null hypothesis\n",
    "Population mean for two groups are equal"
   ]
  },
  {
   "cell_type": "markdown",
   "id": "111609fc-ff69-44b0-9de8-ff84300cf5bf",
   "metadata": {},
   "source": [
    "# Q17: A marketing company wants to estimate the average number of ads watched by viewers during a TV program. They take a random sample of 50 viewers and find that the sample mean is 4 with a standard deviation of 1.5. Estimate the population mean with a 99% confidence interval.\n",
    "To estimate the population mean with a 99% confidence interval, we can use the following formula:\n",
    "\n",
    "CI = X̄ ± z*(σ/√n)\n",
    "\n",
    "Where:\n",
    "\n",
    "X̄ = sample mean (4)\n",
    "z = z-score corresponding to the confidence level (99%)\n",
    "σ = population standard deviation (1.5)\n",
    "n = sample size (50)\n",
    "\n",
    "\n",
    "To find the z-score, we can use a standard normal distribution table. For a 99% confidence level, the z-score is\n",
    "\n",
    "z-score = 2.576.\n",
    "\n",
    "Plugging in the values, we get:\n",
    "\n",
    "CI = 4 ± 2.576*(1.5/√50)\n",
    "CI = 4 ± 0.665\n",
    "\n",
    "Therefore, the 99% confidence interval for the population mean of the number of ads watched by viewers during a TV program is (3.335, 4.665). We are 99% confident that the true population mean falls within this interval."
   ]
  },
  {
   "cell_type": "code",
   "execution_count": null,
   "id": "569aea61-ba04-4f88-b79a-fd4c27dc29d7",
   "metadata": {},
   "outputs": [],
   "source": []
  },
  {
   "cell_type": "code",
   "execution_count": null,
   "id": "e4cf6dd3-055a-4e27-b507-68be8a9778d0",
   "metadata": {},
   "outputs": [],
   "source": []
  },
  {
   "cell_type": "code",
   "execution_count": null,
   "id": "9e573caf-6352-4ffe-8fa6-b06cd5015678",
   "metadata": {},
   "outputs": [],
   "source": []
  },
  {
   "cell_type": "code",
   "execution_count": null,
   "id": "c8ac1a20-582f-488c-99ad-77e994618e43",
   "metadata": {},
   "outputs": [],
   "source": []
  },
  {
   "cell_type": "code",
   "execution_count": null,
   "id": "4455a8d7-122a-4845-9b96-06af7842f416",
   "metadata": {},
   "outputs": [],
   "source": []
  },
  {
   "cell_type": "code",
   "execution_count": null,
   "id": "e919e1e9-fdf7-4964-bcaf-8591f4c3074d",
   "metadata": {},
   "outputs": [],
   "source": []
  },
  {
   "cell_type": "code",
   "execution_count": null,
   "id": "2e89bb60-cf65-4b5d-9ad1-589c9735acad",
   "metadata": {},
   "outputs": [],
   "source": []
  },
  {
   "cell_type": "code",
   "execution_count": null,
   "id": "d71eb90a-5f2a-49ff-b30a-e03291bc1e9a",
   "metadata": {},
   "outputs": [],
   "source": []
  },
  {
   "cell_type": "code",
   "execution_count": null,
   "id": "ee3043f4-a021-4f61-83fa-7db48cd05022",
   "metadata": {},
   "outputs": [],
   "source": []
  }
 ],
 "metadata": {
  "kernelspec": {
   "display_name": "Python 3 (ipykernel)",
   "language": "python",
   "name": "python3"
  },
  "language_info": {
   "codemirror_mode": {
    "name": "ipython",
    "version": 3
   },
   "file_extension": ".py",
   "mimetype": "text/x-python",
   "name": "python",
   "nbconvert_exporter": "python",
   "pygments_lexer": "ipython3",
   "version": "3.10.8"
  }
 },
 "nbformat": 4,
 "nbformat_minor": 5
}
