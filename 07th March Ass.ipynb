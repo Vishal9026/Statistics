{
 "cells": [
  {
   "cell_type": "markdown",
   "id": "f878baf0-9b36-4126-b7d4-2d2f639b747a",
   "metadata": {},
   "source": [
    "# Q1. What are the three measures of central tendency?"
   ]
  },
  {
   "cell_type": "markdown",
   "id": "93040a70-6276-4ce0-b052-0841ac9548c0",
   "metadata": {},
   "source": [
    "Ans1. Mean,Median and Mode are the three measures of central tendency."
   ]
  },
  {
   "cell_type": "markdown",
   "id": "0bf6b48b-6266-44b9-919d-f9e8b11eda35",
   "metadata": {},
   "source": [
    "# Q2. What is the difference between the mean, median, and mode? How are they used to measure the central tendency of a dataset?"
   ]
  },
  {
   "cell_type": "markdown",
   "id": "c3f42a3d-6b72-4da5-8f84-f735ebc77f3f",
   "metadata": {},
   "source": [
    "Ans2.The mean is the most commonly used measure of central tendency. It is calculated by adding up all the values in a data set and dividing by the total number of values. The mean is sensitive to outliers, or extreme values, which can skew the value and make it less representative of the data set as a whole.\n",
    "\n",
    "The median, on the other hand, is less sensitive to outliers than the mean. It is the middle value in a sorted list of values, with half the values above it and half the values below it. If the data set has an even number of values, the median is calculated as the average of the two middle values.\n",
    "\n",
    "The mode is the most frequently occurring value in a data set. It is useful for identifying the most common value in a data set, but can be less informative when the data set has multiple modes or no clear mode.\n",
    "\n",
    "All three measures can be used to give an idea of where the \"middle\" of the data lies. The choice of which measure to use will depend on the specific context and the nature of the data set. For example, the mean might be the most appropriate measure for normally distributed data, while the median might be more appropriate for skewed data. The mode is often used for categorical data or discrete variables."
   ]
  },
  {
   "cell_type": "markdown",
   "id": "08e83498-892b-4837-9679-4fb1e280c4fa",
   "metadata": {},
   "source": [
    "# Q3. Measure the three measures of central tendency for the given height data:"
   ]
  },
  {
   "cell_type": "code",
   "execution_count": 1,
   "id": "eb7bced9-4a6d-4d90-831f-436507d3df47",
   "metadata": {},
   "outputs": [],
   "source": [
    "# Ans3.import numpy first for calculatin mean,median and mode"
   ]
  },
  {
   "cell_type": "code",
   "execution_count": 8,
   "id": "abb17b64-af26-44b0-8cb6-673770f3457a",
   "metadata": {},
   "outputs": [],
   "source": [
    "import numpy as np\n",
    "height_data = [178,177,176,177,178.2,178,175,179,180,175,178.9,176.2,177,172.5,178,176.5]"
   ]
  },
  {
   "cell_type": "code",
   "execution_count": 9,
   "id": "09ba29ef-f548-45fe-b21f-f417c648491c",
   "metadata": {},
   "outputs": [
    {
     "data": {
      "text/plain": [
       "177.01875"
      ]
     },
     "execution_count": 9,
     "metadata": {},
     "output_type": "execute_result"
    }
   ],
   "source": [
    "np.mean(height_data)"
   ]
  },
  {
   "cell_type": "code",
   "execution_count": 10,
   "id": "056f6eb6-4d39-4f63-87af-56234b344c1f",
   "metadata": {},
   "outputs": [
    {
     "data": {
      "text/plain": [
       "177.0"
      ]
     },
     "execution_count": 10,
     "metadata": {},
     "output_type": "execute_result"
    }
   ],
   "source": [
    "np.median(height_data)"
   ]
  },
  {
   "cell_type": "code",
   "execution_count": 12,
   "id": "39661c45-95d2-4752-bfb7-0211d7c73ec0",
   "metadata": {},
   "outputs": [
    {
     "name": "stderr",
     "output_type": "stream",
     "text": [
      "/tmp/ipykernel_116/802727725.py:2: FutureWarning: Unlike other reduction functions (e.g. `skew`, `kurtosis`), the default behavior of `mode` typically preserves the axis it acts along. In SciPy 1.11.0, this behavior will change: the default value of `keepdims` will become False, the `axis` over which the statistic is taken will be eliminated, and the value None will no longer be accepted. Set `keepdims` to True or False to avoid this warning.\n",
      "  stats.mode(height_data)\n"
     ]
    },
    {
     "data": {
      "text/plain": [
       "ModeResult(mode=array([177.]), count=array([3]))"
      ]
     },
     "execution_count": 12,
     "metadata": {},
     "output_type": "execute_result"
    }
   ],
   "source": [
    "from scipy import stats\n",
    "stats.mode(height_data)"
   ]
  },
  {
   "cell_type": "markdown",
   "id": "3684e9df-19d0-41ae-ab0c-1c55a2a03bba",
   "metadata": {},
   "source": [
    "# Q4. Find the standard deviation for the given data:"
   ]
  },
  {
   "cell_type": "code",
   "execution_count": 13,
   "id": "be0abbbe-3cbd-47bc-9133-8f9b84fa3310",
   "metadata": {},
   "outputs": [],
   "source": [
    "# Ans4.\n",
    "import numpy as np\n",
    "\n",
    "data=[178,177,176,177,178.2,178,175,179,180,175,178.9,176.2,177,172.5,178,176.5]"
   ]
  },
  {
   "cell_type": "code",
   "execution_count": 14,
   "id": "95c1cc06-c3de-4cfd-88b4-49ccafb298f2",
   "metadata": {},
   "outputs": [
    {
     "data": {
      "text/plain": [
       "1.7885814036548633"
      ]
     },
     "execution_count": 14,
     "metadata": {},
     "output_type": "execute_result"
    }
   ],
   "source": [
    "np.std(data)"
   ]
  },
  {
   "cell_type": "markdown",
   "id": "76b2e46e-7607-45f2-b7f1-a69cc0d33a86",
   "metadata": {},
   "source": [
    "# Q5. How are measures of dispersion such as range, variance, and standard deviation used to describe the spread of a dataset? Provide an example."
   ]
  },
  {
   "cell_type": "markdown",
   "id": "2e500f5b-0f1f-4c61-8b56-0e04353a9929",
   "metadata": {},
   "source": [
    "Ans5.\n",
    "Measures of dispersion, such as range, variance, and standard deviation, describe the spread or variability of a data set. They complement measures of central tendency, such as the mean, median, and mode, by providing additional information about how much the data values deviate from the center.\n",
    "\n",
    "Range is the simplest measure of dispersion, and it is calculated by subtracting the minimum value from the maximum value in a data set. The range provides an idea of the spread of the data but is not as informative as other measures of dispersion, as it only takes into account the two extreme values.\n",
    "\n",
    "Variance and standard deviation are more informative measures of dispersion that take into account all the values in a data set. Variance is the average of the squared deviations of each value from the mean, while the standard deviation is the square root of the variance. The standard deviation is often preferred because it has the same units as the original data set, while variance is in squared units.\n",
    "\n",
    "For example, let's consider the following data set of test scores: 70, 80, 85, 90, 95.\n",
    "\n",
    "The mean score is 84, and the range is 25 (95 - 70). To calculate the variance, we first find the deviation of each score from the mean: -14, -4, 1, 6, 11. Squaring each deviation gives: 196, 16, 1, 36, 121. The sum of these squared deviations is 370, which, divided by the number of scores (5), gives a variance of 74.\n",
    "\n",
    "To find the standard deviation, we take the square root of the variance, giving us a standard deviation of approximately 8.6.\n",
    "\n",
    "In the above example, the standard deviation tells us that the scores are fairly tightly clustered around the mean, with only a few scores deviating significantly from the mean. This information can be useful in understanding the distribution of the scores and in making decisions about how to interpret them."
   ]
  },
  {
   "cell_type": "markdown",
   "id": "2874418e-8194-45d4-b91c-0c2d94b18bce",
   "metadata": {},
   "source": [
    "# Q6. What is a Venn diagram?"
   ]
  },
  {
   "cell_type": "markdown",
   "id": "39a555e0-d389-4f8c-808f-1d3010421b24",
   "metadata": {},
   "source": [
    "Ans6.\n",
    "A Venn diagram is a graphical representation of sets or groups.\n",
    "\n",
    "A Venn diagram consists of one or more circles or other shapes, each representing a set or group. The circles may overlap, indicating elements that belong to more than one set. The area within each circle represents the elements that belong to that set, while the overlap between circles represents the elements that belong to both sets.\n",
    "\n",
    "Venn diagrams are useful for visualizing relationships between sets and for analyzing data with multiple categories or variables. They can also be used to illustrate logical relationships between concepts or propositions."
   ]
  },
  {
   "cell_type": "markdown",
   "id": "e9ee06a5-e796-4458-9a57-92b9af653e67",
   "metadata": {},
   "source": [
    "# Q7. For the two given sets A = (2,3,4,5,6,7) & B = (0,2,6,8,10). Find:\n",
    "# (i) A ⋂ B\n",
    "# (ii) A ⋃ B"
   ]
  },
  {
   "cell_type": "code",
   "execution_count": 18,
   "id": "4ecf8552-7a12-4029-a355-0aabeb956260",
   "metadata": {},
   "outputs": [
    {
     "name": "stdout",
     "output_type": "stream",
     "text": [
      "intersection of two set:{0, 2, 3, 4, 5, 6, 7, 8, 10}\n",
      "union of two set:{2, 6}\n"
     ]
    }
   ],
   "source": [
    "# Ans7.\n",
    "A = {2,3,4,5,6,7}\n",
    "B = {0,2,6,8,10}\n",
    "intersection = A|B\n",
    "union = A&B\n",
    "print(f\"intersection of two set:{intersection}\")\n",
    "print(f\"union of two set:{union}\")"
   ]
  },
  {
   "cell_type": "markdown",
   "id": "dc44482e-50e7-4348-b8ee-116eea2437df",
   "metadata": {},
   "source": [
    "# Q8. What do you understand about skewness in data?"
   ]
  },
  {
   "cell_type": "markdown",
   "id": "c8661589-0c03-462d-9d65-7568de048357",
   "metadata": {},
   "source": [
    "Ans8.\n",
    "Skewness is a measure of the asymmetry of a probability distribution. In a symmetrical distribution, the mean, median, and mode are all the same, and the distribution is said to be \"balanced.\" However, in an asymmetrical distribution, the mean, median, and mode are different, and the distribution is said to be \"skewed.\"\n",
    "\n",
    "Skewness is characterized by the direction and degree of the deviation from symmetry. Positive skewness (also known as right-skewedness) means that the tail of the distribution is longer on the right side, and the mode is smaller than the median, which is smaller than the mean. Negative skewness (also known as left-skewedness) means that the tail of the distribution is longer on the left side, and the mode is larger than the median, which is larger than the mean.\n",
    "\n",
    "Skewed data can affect statistical analyses and data interpretation. For example, if the data is positively skewed, the mean will be greater than the median, and this can lead to overestimation of the central tendency. If the data is negatively skewed, the opposite can occur. Skewness can also affect hypothesis testing and the choice of statistical tests.\n"
   ]
  },
  {
   "cell_type": "markdown",
   "id": "b788a98b-8f98-4c2b-abc8-eaedeb4b8adc",
   "metadata": {},
   "source": [
    "# Q9. If a data is right skewed then what will be the position of median with respect to mean?"
   ]
  },
  {
   "cell_type": "markdown",
   "id": "8c071356-cf7d-44c6-86cd-1cfe2c78ab46",
   "metadata": {},
   "source": [
    "Ans9.\n",
    "If a data set is right-skewed (positively skewed), then the median will be less than the mean. This is because the mean is influenced by the larger values in the tail of the distribution, while the median is less sensitive to extreme values and is instead based on the middle value(s) in the dataset."
   ]
  },
  {
   "cell_type": "markdown",
   "id": "06fc8daa-6f6f-49aa-92a1-468dc390eb66",
   "metadata": {},
   "source": [
    "# Q10. Explain the difference between covariance and correlation. How are these measures used in statistical analysis?"
   ]
  },
  {
   "cell_type": "markdown",
   "id": "613d1008-2ee6-441c-920f-3790bc180f55",
   "metadata": {},
   "source": [
    "Ans10.Covariance is a measure of the degree to which two variables vary together. Specifically, it measures how much the two variables move together in the same direction. A positive covariance indicates that the two variables tend to increase or decrease together, while a negative covariance indicates that they tend to move in opposite directions.\n",
    "\n",
    "However, the magnitude of the covariance alone does not provide a clear understanding of the strength or direction of the relationship between the variables.\n",
    "\n",
    "Correlation, on the other hand, measures both the strength and direction of the relationship between two variables. Unlike covariance, correlation is standardized, meaning it is scaled between -1 and 1. A correlation coefficient of +1 indicates a perfect positive correlation, while a correlation coefficient of -1 indicates a perfect negative correlation. A correlation coefficient of 0 indicates no linear relationship between the variables.\n",
    "\n",
    "In statistical analysis, covariance and correlation are used to measure the relationship between two variables. They are used to determine whether the two variables are related, and if so, how strongly and in what direction."
   ]
  },
  {
   "cell_type": "markdown",
   "id": "a813994f-2d2f-4da3-86aa-e939b767238c",
   "metadata": {},
   "source": [
    "# Q11. What is the formula for calculating the sample mean? Provide an example calculation for a dataset."
   ]
  },
  {
   "cell_type": "markdown",
   "id": "90480891-9dbe-43d0-8009-1cd3118ad3b9",
   "metadata": {},
   "source": [
    "Ans11.The formula used for calculating the sample mean is:\n",
    "# x̄ = ( Σ xi ) / n."
   ]
  },
  {
   "cell_type": "code",
   "execution_count": 22,
   "id": "0086d4bd-30de-458c-997f-a1bc7f2d9bc7",
   "metadata": {},
   "outputs": [
    {
     "data": {
      "text/plain": [
       "47.77777777777778"
      ]
     },
     "execution_count": 22,
     "metadata": {},
     "output_type": "execute_result"
    }
   ],
   "source": [
    "# Example\n",
    "import numpy as np\n",
    "l1 = [10,20,30,40,50,80,50,60,90]\n",
    "np.mean(l1)"
   ]
  },
  {
   "cell_type": "code",
   "execution_count": 23,
   "id": "383d937d-a41f-43ec-82a1-6589d652e6ca",
   "metadata": {},
   "outputs": [],
   "source": [
    "import seaborn as sns"
   ]
  },
  {
   "cell_type": "code",
   "execution_count": 28,
   "id": "108e29b6-c22d-4948-83d1-471de88a44ef",
   "metadata": {},
   "outputs": [
    {
     "data": {
      "text/html": [
       "<div>\n",
       "<style scoped>\n",
       "    .dataframe tbody tr th:only-of-type {\n",
       "        vertical-align: middle;\n",
       "    }\n",
       "\n",
       "    .dataframe tbody tr th {\n",
       "        vertical-align: top;\n",
       "    }\n",
       "\n",
       "    .dataframe thead th {\n",
       "        text-align: right;\n",
       "    }\n",
       "</style>\n",
       "<table border=\"1\" class=\"dataframe\">\n",
       "  <thead>\n",
       "    <tr style=\"text-align: right;\">\n",
       "      <th></th>\n",
       "      <th>sepal_length</th>\n",
       "      <th>sepal_width</th>\n",
       "      <th>petal_length</th>\n",
       "      <th>petal_width</th>\n",
       "      <th>species</th>\n",
       "    </tr>\n",
       "  </thead>\n",
       "  <tbody>\n",
       "    <tr>\n",
       "      <th>0</th>\n",
       "      <td>5.1</td>\n",
       "      <td>3.5</td>\n",
       "      <td>1.4</td>\n",
       "      <td>0.2</td>\n",
       "      <td>setosa</td>\n",
       "    </tr>\n",
       "    <tr>\n",
       "      <th>1</th>\n",
       "      <td>4.9</td>\n",
       "      <td>3.0</td>\n",
       "      <td>1.4</td>\n",
       "      <td>0.2</td>\n",
       "      <td>setosa</td>\n",
       "    </tr>\n",
       "    <tr>\n",
       "      <th>2</th>\n",
       "      <td>4.7</td>\n",
       "      <td>3.2</td>\n",
       "      <td>1.3</td>\n",
       "      <td>0.2</td>\n",
       "      <td>setosa</td>\n",
       "    </tr>\n",
       "    <tr>\n",
       "      <th>3</th>\n",
       "      <td>4.6</td>\n",
       "      <td>3.1</td>\n",
       "      <td>1.5</td>\n",
       "      <td>0.2</td>\n",
       "      <td>setosa</td>\n",
       "    </tr>\n",
       "    <tr>\n",
       "      <th>4</th>\n",
       "      <td>5.0</td>\n",
       "      <td>3.6</td>\n",
       "      <td>1.4</td>\n",
       "      <td>0.2</td>\n",
       "      <td>setosa</td>\n",
       "    </tr>\n",
       "    <tr>\n",
       "      <th>...</th>\n",
       "      <td>...</td>\n",
       "      <td>...</td>\n",
       "      <td>...</td>\n",
       "      <td>...</td>\n",
       "      <td>...</td>\n",
       "    </tr>\n",
       "    <tr>\n",
       "      <th>145</th>\n",
       "      <td>6.7</td>\n",
       "      <td>3.0</td>\n",
       "      <td>5.2</td>\n",
       "      <td>2.3</td>\n",
       "      <td>virginica</td>\n",
       "    </tr>\n",
       "    <tr>\n",
       "      <th>146</th>\n",
       "      <td>6.3</td>\n",
       "      <td>2.5</td>\n",
       "      <td>5.0</td>\n",
       "      <td>1.9</td>\n",
       "      <td>virginica</td>\n",
       "    </tr>\n",
       "    <tr>\n",
       "      <th>147</th>\n",
       "      <td>6.5</td>\n",
       "      <td>3.0</td>\n",
       "      <td>5.2</td>\n",
       "      <td>2.0</td>\n",
       "      <td>virginica</td>\n",
       "    </tr>\n",
       "    <tr>\n",
       "      <th>148</th>\n",
       "      <td>6.2</td>\n",
       "      <td>3.4</td>\n",
       "      <td>5.4</td>\n",
       "      <td>2.3</td>\n",
       "      <td>virginica</td>\n",
       "    </tr>\n",
       "    <tr>\n",
       "      <th>149</th>\n",
       "      <td>5.9</td>\n",
       "      <td>3.0</td>\n",
       "      <td>5.1</td>\n",
       "      <td>1.8</td>\n",
       "      <td>virginica</td>\n",
       "    </tr>\n",
       "  </tbody>\n",
       "</table>\n",
       "<p>150 rows × 5 columns</p>\n",
       "</div>"
      ],
      "text/plain": [
       "     sepal_length  sepal_width  petal_length  petal_width    species\n",
       "0             5.1          3.5           1.4          0.2     setosa\n",
       "1             4.9          3.0           1.4          0.2     setosa\n",
       "2             4.7          3.2           1.3          0.2     setosa\n",
       "3             4.6          3.1           1.5          0.2     setosa\n",
       "4             5.0          3.6           1.4          0.2     setosa\n",
       "..            ...          ...           ...          ...        ...\n",
       "145           6.7          3.0           5.2          2.3  virginica\n",
       "146           6.3          2.5           5.0          1.9  virginica\n",
       "147           6.5          3.0           5.2          2.0  virginica\n",
       "148           6.2          3.4           5.4          2.3  virginica\n",
       "149           5.9          3.0           5.1          1.8  virginica\n",
       "\n",
       "[150 rows x 5 columns]"
      ]
     },
     "execution_count": 28,
     "metadata": {},
     "output_type": "execute_result"
    }
   ],
   "source": [
    "m = sns.load_dataset(\"iris\")\n",
    "m"
   ]
  },
  {
   "cell_type": "code",
   "execution_count": 29,
   "id": "e5331d32-0c63-42aa-9695-070dabe16ddc",
   "metadata": {},
   "outputs": [
    {
     "data": {
      "text/plain": [
       "5.843333333333334"
      ]
     },
     "execution_count": 29,
     "metadata": {},
     "output_type": "execute_result"
    }
   ],
   "source": [
    "m[\"sepal_length\"].mean()"
   ]
  },
  {
   "cell_type": "markdown",
   "id": "ee025298-596b-4c3a-a29b-72e253ac70c0",
   "metadata": {},
   "source": [
    "# Q12. For a normal distribution data what is the relationship between its measure of central tendency?"
   ]
  },
  {
   "cell_type": "markdown",
   "id": "3d76c184-d3a8-4d94-8e04-c98f83a743b6",
   "metadata": {},
   "source": [
    "Ans12.For a normal distribution, the mean, median, and mode are all equal, and they are located at the center of the distribution. This means that the distribution is symmetric around its central point, and the measures of central tendency coincide with each other."
   ]
  },
  {
   "cell_type": "markdown",
   "id": "6505a7f0-f866-4150-b431-487ae6c70228",
   "metadata": {},
   "source": [
    "# Q13. How is covariance different from correlation?"
   ]
  },
  {
   "cell_type": "markdown",
   "id": "5e65219b-2224-42fb-8d25-18c31c0f29d1",
   "metadata": {},
   "source": [
    "Ans13The two major differences between covariance and correlation are:\n",
    "\n",
    "1 Scale: Covariance is not standardized, which means it can take on any value (positive, negative, or zero), and its units are the product of the units of the two variables being measured. In contrast, correlation is standardized, with values ranging from -1 to +1, and its units are dimensionless.\n",
    "\n",
    "2 Magnitude: Covariance measures the direction and strength of the linear relationship between two variables. However, because it is not standardized, the magnitude of the covariance value does not provide a clear indication of the strength of the relationship. Correlation, on the other hand, measures both the direction and strength of the linear relationship between two variables, making it a more informative measure of association."
   ]
  },
  {
   "cell_type": "markdown",
   "id": "9d75fad8-d856-4469-b60d-37e33854a170",
   "metadata": {},
   "source": [
    "# Q14. How do outliers affect measures of central tendency and dispersion? Provide an example."
   ]
  },
  {
   "cell_type": "markdown",
   "id": "895386b8-548e-401c-a758-a68d73a5dcae",
   "metadata": {},
   "source": [
    "Ans14.Outliers are data values that are very different from the rest of the data. They can affect measures of central tendency and dispersion, which are statistics that describe the center and spread of a dataset."
   ]
  },
  {
   "cell_type": "markdown",
   "id": "b6047511-db79-4899-bd1f-b0931cf94bd8",
   "metadata": {},
   "source": [
    "# Measures of Central Tendency without outliers"
   ]
  },
  {
   "cell_type": "code",
   "execution_count": 33,
   "id": "73e9232e-9b12-40e1-8791-50508da02e39",
   "metadata": {},
   "outputs": [
    {
     "name": "stdout",
     "output_type": "stream",
     "text": [
      "Mean: 40.0\n",
      "Median: 40.0\n"
     ]
    }
   ],
   "source": [
    "data = [10,20,30,50,60,70]\n",
    "print(\"Mean:\",np.mean(data))\n",
    "print(\"Median:\",np.median(data))"
   ]
  },
  {
   "cell_type": "markdown",
   "id": "a3bf9cc6-1ec0-4a83-b632-f5dc564c38be",
   "metadata": {},
   "source": [
    "# Measures of Central Tendency with outliers"
   ]
  },
  {
   "cell_type": "code",
   "execution_count": 34,
   "id": "0346b563-5b5e-429b-b5d4-43110215990a",
   "metadata": {},
   "outputs": [
    {
     "name": "stdout",
     "output_type": "stream",
     "text": [
      "Mean: 177.14285714285714\n",
      "Median: 50.0\n"
     ]
    }
   ],
   "source": [
    "data = [10,20,30,50,60,70,1000]\n",
    "print(\"Mean:\",np.mean(data))\n",
    "print(\"Median:\",np.median(data))"
   ]
  },
  {
   "cell_type": "markdown",
   "id": "61b6c78c-249d-4ee0-b36a-33d96bf86cad",
   "metadata": {},
   "source": [
    "# Measures of Dispersion Without Outliers"
   ]
  },
  {
   "cell_type": "code",
   "execution_count": 37,
   "id": "ce27b54a-527b-46ad-8fb9-1e10f1105d79",
   "metadata": {},
   "outputs": [
    {
     "name": "stdout",
     "output_type": "stream",
     "text": [
      "Variance: 466.6666666666667\n",
      "Standard Deviation: 21.602468994692867\n"
     ]
    }
   ],
   "source": [
    "data = [10,20,30,50,60,70]\n",
    "print(\"Variance:\",np.var(data))\n",
    "print(\"Standard Deviation:\",np.std(data))"
   ]
  },
  {
   "cell_type": "markdown",
   "id": "2f9c9a8c-f2da-4ab8-9ed8-04382f8aac27",
   "metadata": {},
   "source": [
    "# Measures of Dispersion With Outliers"
   ]
  },
  {
   "cell_type": "code",
   "execution_count": 38,
   "id": "c66264f1-a032-4ebf-9578-47b15fd66097",
   "metadata": {},
   "outputs": [
    {
     "name": "stdout",
     "output_type": "stream",
     "text": [
      "Variance: 113248.97959183673\n",
      "Standard Deviation: 336.52485731641985\n"
     ]
    }
   ],
   "source": [
    "data = [10,20,30,50,60,70,1000]\n",
    "print(\"Variance:\",np.var(data))\n",
    "print(\"Standard Deviation:\",np.std(data))"
   ]
  },
  {
   "cell_type": "code",
   "execution_count": null,
   "id": "22b236f1-3321-4472-af3d-fc05a3538c7d",
   "metadata": {},
   "outputs": [],
   "source": []
  },
  {
   "cell_type": "code",
   "execution_count": null,
   "id": "e8615aaa-9486-461f-8da0-0ed0240e33e3",
   "metadata": {},
   "outputs": [],
   "source": []
  },
  {
   "cell_type": "code",
   "execution_count": null,
   "id": "31ba46ae-ff31-4c01-8986-60248e147b74",
   "metadata": {},
   "outputs": [],
   "source": []
  },
  {
   "cell_type": "code",
   "execution_count": null,
   "id": "f0513bd4-884e-4d19-8b25-16682f26f04f",
   "metadata": {},
   "outputs": [],
   "source": []
  }
 ],
 "metadata": {
  "kernelspec": {
   "display_name": "Python 3 (ipykernel)",
   "language": "python",
   "name": "python3"
  },
  "language_info": {
   "codemirror_mode": {
    "name": "ipython",
    "version": 3
   },
   "file_extension": ".py",
   "mimetype": "text/x-python",
   "name": "python",
   "nbconvert_exporter": "python",
   "pygments_lexer": "ipython3",
   "version": "3.10.8"
  }
 },
 "nbformat": 4,
 "nbformat_minor": 5
}
